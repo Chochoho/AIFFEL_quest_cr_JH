{
  "nbformat": 4,
  "nbformat_minor": 0,
  "metadata": {
    "colab": {
      "provenance": [],
      "include_colab_link": true
    },
    "kernelspec": {
      "name": "python3",
      "display_name": "Python 3"
    },
    "language_info": {
      "name": "python"
    }
  },
  "cells": [
    {
      "cell_type": "markdown",
      "metadata": {
        "id": "view-in-github",
        "colab_type": "text"
      },
      "source": [
        "<a href=\"https://colab.research.google.com/github/jong104b-kr/AIFFEL_quest_cr/blob/master/Quest01/quest01_jhb.ipynb\" target=\"_parent\"><img src=\"https://colab.research.google.com/assets/colab-badge.svg\" alt=\"Open In Colab\"/></a>"
      ]
    },
    {
      "cell_type": "code",
      "execution_count": 2,
      "metadata": {
        "id": "fuaJU116XI6T",
        "colab": {
          "base_uri": "https://localhost:8080/"
        },
        "outputId": "558735ca-2a7d-4c60-b9f2-2d86af7c53de"
      },
      "outputs": [
        {
          "output_type": "stream",
          "name": "stdout",
          "text": [
            "단어 입력 : 123\n",
            "뒤집힌 단어는: 321\n",
            "입력된 단어는: 123\n",
            "입력된 단어는 회문이 아닙니다.\n"
          ]
        }
      ],
      "source": [
        "# 1. 숫자, 단어를 하나 입력받는다, 함수이용\n",
        "# 2. 입력받은 단어를 하나의 리스트에 넣는다.\n",
        "# 3. 다른 리스트에 뒤집어서 2번의 값을 넣는다.\n",
        "# 4. 2,3이 같으면(회문이라면)\n",
        "# 5. 회문입니다.\n",
        "\n",
        "# n = input(\"단어 입력 : \")\n",
        "# s = str(n)\n",
        "# length = len(s)\n",
        "# for i in range(0,length-1):\n",
        "#  r[i] = n // (10*i)\n",
        "\n",
        "# for j in range(length-1,0):\n",
        "#  r1[j] = n // (10*j)\n",
        "\n",
        "# if r==r1 :\n",
        "#  print('회문입니다.')\n",
        "# else :\n",
        "#  print('회문이 아닙니다.')\n",
        "\n",
        "\n",
        "n = input(\"단어 입력 : \")\n",
        "r = n[::-1] # 회문 만드는 과정\n",
        "print(\"뒤집힌 단어는:\", r)\n",
        "print(\"입력된 단어는:\", n)\n",
        "if n==r:\n",
        "  print(\"입력된 단어는 회문입니다.\")\n",
        "else:\n",
        "  print(\"입력된 단어는 회문이 아닙니다.\")\n",
        "\n",
        "\n",
        "\n",
        "# reversed_word = word[::-1]\n",
        "# 회고(?)\n",
        "# 처음 다른 짝궁을 만나 작업을 했다. 과제를 한 후 서로를 소개하는 시간을 조금 가졌다. 비대면 수업이라 어색할 수 있는데\n",
        "# 이런 자투리 시간도 관계를 덜 어색하게 만드는데 도움이 되었다."
      ]
    }
  ]
}